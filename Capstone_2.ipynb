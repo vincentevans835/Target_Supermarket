{
 "cells": [
  {
   "cell_type": "code",
   "execution_count": 1,
   "metadata": {},
   "outputs": [],
   "source": [
    "import pandas as pd\n",
    "import numpy as np \n",
    "import seaborn as sns \n",
    "import matplotlib.pyplot as plt\n",
    "from datetime import datetime\n",
    "from scipy import stats\n",
    "from scipy.stats import shapiro\n",
    "from scipy.stats import mannwhitneyu"
   ]
  },
  {
   "cell_type": "markdown",
   "metadata": {},
   "source": [
    "# Latar Belakang\n",
    "\n",
    "Dalam dunia ritel, promosi merupakan salah satu strategi pemasaran yang umum digunakan oleh berbagai perusahaan untuk meningkatkan penjualan dan memperluas pangsa pasar mereka. Supermarket sebagai salah satu bentuk ritel memiliki peran yang signifikan dalam mendistribusikan berbagai produk ke konsumen. Oleh karena itu, penting untuk memahami efektivitas promosi di supermarket sebagai bagian dari strategi pemasaran yang dapat memengaruhi perilaku pembelian konsumen. "
   ]
  },
  {
   "cell_type": "markdown",
   "metadata": {},
   "source": [
    "# Masalah\n",
    "1.Bagaimana Tingkat Penerimaan Konsumen terhadap Promosi di Supermarket?  \n",
    "2.Profil dan Karakteristik Pelanggan  \n",
    "3.Pengaruh Pendapatan terhadap Total Pengeluaran Produk  \n",
    "4.Lebih mengutamakan promosi di toko fisik atau platform online  \n",
    "5.Product apa yang yang di harus diutamakan untuk dipromosikan"
   ]
  },
  {
   "cell_type": "markdown",
   "metadata": {},
   "source": [
    "# Goals\n",
    "1.Mengukur sejauh mana konsumen merespon dan menerima berbagai jenis promosi yang ditawarkan oleh supermarket  \n",
    "2.Bagaimana profil dan karakteristik pelanggan (usia, pendidikan, status perkawinan, pendapatan) berhubungan dengan kecenderungan partisipasi dalam program pemasaran atau respons terhadap promosi  \n",
    "3.Sejauh mana pendapatan pelanggan memengaruhi total pengeluaran pada berbagai kategori produk (anggur, buah-buahan, daging, ikan, produk-manis, emas)?  \n",
    "4.Bagaimana pola perilaku pembelian konsumen di toko fisik dan platform online berkontribusi terhadap keputusan promosi yang tepat?  \n",
    "5.Prioritaskan promosi untuk produk yang kurang sering dibeli oleh konsumen, dengan tujuan meningkatkan kesadaran dan penjualan produk tersebut."
   ]
  },
  {
   "cell_type": "markdown",
   "metadata": {},
   "source": [
    "# Import dan Check Kondisi Data"
   ]
  },
  {
   "cell_type": "markdown",
   "metadata": {},
   "source": [
    "### 1. Read CSV\n",
    "Data Excel dipasahkan oleh /t maka harus menggunakan paramater seperator yang diisi \\t"
   ]
  },
  {
   "cell_type": "code",
   "execution_count": 2,
   "metadata": {},
   "outputs": [
    {
     "data": {
      "text/html": [
       "<div>\n",
       "<style scoped>\n",
       "    .dataframe tbody tr th:only-of-type {\n",
       "        vertical-align: middle;\n",
       "    }\n",
       "\n",
       "    .dataframe tbody tr th {\n",
       "        vertical-align: top;\n",
       "    }\n",
       "\n",
       "    .dataframe thead th {\n",
       "        text-align: right;\n",
       "    }\n",
       "</style>\n",
       "<table border=\"1\" class=\"dataframe\">\n",
       "  <thead>\n",
       "    <tr style=\"text-align: right;\">\n",
       "      <th></th>\n",
       "      <th>ID</th>\n",
       "      <th>Year_Birth</th>\n",
       "      <th>Education</th>\n",
       "      <th>Marital_Status</th>\n",
       "      <th>Income</th>\n",
       "      <th>Kidhome</th>\n",
       "      <th>Teenhome</th>\n",
       "      <th>Dt_Customer</th>\n",
       "      <th>Recency</th>\n",
       "      <th>MntWines</th>\n",
       "      <th>...</th>\n",
       "      <th>NumWebVisitsMonth</th>\n",
       "      <th>AcceptedCmp3</th>\n",
       "      <th>AcceptedCmp4</th>\n",
       "      <th>AcceptedCmp5</th>\n",
       "      <th>AcceptedCmp1</th>\n",
       "      <th>AcceptedCmp2</th>\n",
       "      <th>Complain</th>\n",
       "      <th>Z_CostContact</th>\n",
       "      <th>Z_Revenue</th>\n",
       "      <th>Response</th>\n",
       "    </tr>\n",
       "  </thead>\n",
       "  <tbody>\n",
       "    <tr>\n",
       "      <th>0</th>\n",
       "      <td>5524</td>\n",
       "      <td>1957</td>\n",
       "      <td>Graduation</td>\n",
       "      <td>Single</td>\n",
       "      <td>58138.0</td>\n",
       "      <td>0</td>\n",
       "      <td>0</td>\n",
       "      <td>04-09-2012</td>\n",
       "      <td>58</td>\n",
       "      <td>635</td>\n",
       "      <td>...</td>\n",
       "      <td>7</td>\n",
       "      <td>0</td>\n",
       "      <td>0</td>\n",
       "      <td>0</td>\n",
       "      <td>0</td>\n",
       "      <td>0</td>\n",
       "      <td>0</td>\n",
       "      <td>3</td>\n",
       "      <td>11</td>\n",
       "      <td>1</td>\n",
       "    </tr>\n",
       "    <tr>\n",
       "      <th>1</th>\n",
       "      <td>2174</td>\n",
       "      <td>1954</td>\n",
       "      <td>Graduation</td>\n",
       "      <td>Single</td>\n",
       "      <td>46344.0</td>\n",
       "      <td>1</td>\n",
       "      <td>1</td>\n",
       "      <td>08-03-2014</td>\n",
       "      <td>38</td>\n",
       "      <td>11</td>\n",
       "      <td>...</td>\n",
       "      <td>5</td>\n",
       "      <td>0</td>\n",
       "      <td>0</td>\n",
       "      <td>0</td>\n",
       "      <td>0</td>\n",
       "      <td>0</td>\n",
       "      <td>0</td>\n",
       "      <td>3</td>\n",
       "      <td>11</td>\n",
       "      <td>0</td>\n",
       "    </tr>\n",
       "    <tr>\n",
       "      <th>2</th>\n",
       "      <td>4141</td>\n",
       "      <td>1965</td>\n",
       "      <td>Graduation</td>\n",
       "      <td>Together</td>\n",
       "      <td>71613.0</td>\n",
       "      <td>0</td>\n",
       "      <td>0</td>\n",
       "      <td>21-08-2013</td>\n",
       "      <td>26</td>\n",
       "      <td>426</td>\n",
       "      <td>...</td>\n",
       "      <td>4</td>\n",
       "      <td>0</td>\n",
       "      <td>0</td>\n",
       "      <td>0</td>\n",
       "      <td>0</td>\n",
       "      <td>0</td>\n",
       "      <td>0</td>\n",
       "      <td>3</td>\n",
       "      <td>11</td>\n",
       "      <td>0</td>\n",
       "    </tr>\n",
       "    <tr>\n",
       "      <th>3</th>\n",
       "      <td>6182</td>\n",
       "      <td>1984</td>\n",
       "      <td>Graduation</td>\n",
       "      <td>Together</td>\n",
       "      <td>26646.0</td>\n",
       "      <td>1</td>\n",
       "      <td>0</td>\n",
       "      <td>10-02-2014</td>\n",
       "      <td>26</td>\n",
       "      <td>11</td>\n",
       "      <td>...</td>\n",
       "      <td>6</td>\n",
       "      <td>0</td>\n",
       "      <td>0</td>\n",
       "      <td>0</td>\n",
       "      <td>0</td>\n",
       "      <td>0</td>\n",
       "      <td>0</td>\n",
       "      <td>3</td>\n",
       "      <td>11</td>\n",
       "      <td>0</td>\n",
       "    </tr>\n",
       "    <tr>\n",
       "      <th>4</th>\n",
       "      <td>5324</td>\n",
       "      <td>1981</td>\n",
       "      <td>PhD</td>\n",
       "      <td>Married</td>\n",
       "      <td>58293.0</td>\n",
       "      <td>1</td>\n",
       "      <td>0</td>\n",
       "      <td>19-01-2014</td>\n",
       "      <td>94</td>\n",
       "      <td>173</td>\n",
       "      <td>...</td>\n",
       "      <td>5</td>\n",
       "      <td>0</td>\n",
       "      <td>0</td>\n",
       "      <td>0</td>\n",
       "      <td>0</td>\n",
       "      <td>0</td>\n",
       "      <td>0</td>\n",
       "      <td>3</td>\n",
       "      <td>11</td>\n",
       "      <td>0</td>\n",
       "    </tr>\n",
       "    <tr>\n",
       "      <th>...</th>\n",
       "      <td>...</td>\n",
       "      <td>...</td>\n",
       "      <td>...</td>\n",
       "      <td>...</td>\n",
       "      <td>...</td>\n",
       "      <td>...</td>\n",
       "      <td>...</td>\n",
       "      <td>...</td>\n",
       "      <td>...</td>\n",
       "      <td>...</td>\n",
       "      <td>...</td>\n",
       "      <td>...</td>\n",
       "      <td>...</td>\n",
       "      <td>...</td>\n",
       "      <td>...</td>\n",
       "      <td>...</td>\n",
       "      <td>...</td>\n",
       "      <td>...</td>\n",
       "      <td>...</td>\n",
       "      <td>...</td>\n",
       "      <td>...</td>\n",
       "    </tr>\n",
       "    <tr>\n",
       "      <th>2235</th>\n",
       "      <td>10870</td>\n",
       "      <td>1967</td>\n",
       "      <td>Graduation</td>\n",
       "      <td>Married</td>\n",
       "      <td>61223.0</td>\n",
       "      <td>0</td>\n",
       "      <td>1</td>\n",
       "      <td>13-06-2013</td>\n",
       "      <td>46</td>\n",
       "      <td>709</td>\n",
       "      <td>...</td>\n",
       "      <td>5</td>\n",
       "      <td>0</td>\n",
       "      <td>0</td>\n",
       "      <td>0</td>\n",
       "      <td>0</td>\n",
       "      <td>0</td>\n",
       "      <td>0</td>\n",
       "      <td>3</td>\n",
       "      <td>11</td>\n",
       "      <td>0</td>\n",
       "    </tr>\n",
       "    <tr>\n",
       "      <th>2236</th>\n",
       "      <td>4001</td>\n",
       "      <td>1946</td>\n",
       "      <td>PhD</td>\n",
       "      <td>Together</td>\n",
       "      <td>64014.0</td>\n",
       "      <td>2</td>\n",
       "      <td>1</td>\n",
       "      <td>10-06-2014</td>\n",
       "      <td>56</td>\n",
       "      <td>406</td>\n",
       "      <td>...</td>\n",
       "      <td>7</td>\n",
       "      <td>0</td>\n",
       "      <td>0</td>\n",
       "      <td>0</td>\n",
       "      <td>1</td>\n",
       "      <td>0</td>\n",
       "      <td>0</td>\n",
       "      <td>3</td>\n",
       "      <td>11</td>\n",
       "      <td>0</td>\n",
       "    </tr>\n",
       "    <tr>\n",
       "      <th>2237</th>\n",
       "      <td>7270</td>\n",
       "      <td>1981</td>\n",
       "      <td>Graduation</td>\n",
       "      <td>Divorced</td>\n",
       "      <td>56981.0</td>\n",
       "      <td>0</td>\n",
       "      <td>0</td>\n",
       "      <td>25-01-2014</td>\n",
       "      <td>91</td>\n",
       "      <td>908</td>\n",
       "      <td>...</td>\n",
       "      <td>6</td>\n",
       "      <td>0</td>\n",
       "      <td>1</td>\n",
       "      <td>0</td>\n",
       "      <td>0</td>\n",
       "      <td>0</td>\n",
       "      <td>0</td>\n",
       "      <td>3</td>\n",
       "      <td>11</td>\n",
       "      <td>0</td>\n",
       "    </tr>\n",
       "    <tr>\n",
       "      <th>2238</th>\n",
       "      <td>8235</td>\n",
       "      <td>1956</td>\n",
       "      <td>Master</td>\n",
       "      <td>Together</td>\n",
       "      <td>69245.0</td>\n",
       "      <td>0</td>\n",
       "      <td>1</td>\n",
       "      <td>24-01-2014</td>\n",
       "      <td>8</td>\n",
       "      <td>428</td>\n",
       "      <td>...</td>\n",
       "      <td>3</td>\n",
       "      <td>0</td>\n",
       "      <td>0</td>\n",
       "      <td>0</td>\n",
       "      <td>0</td>\n",
       "      <td>0</td>\n",
       "      <td>0</td>\n",
       "      <td>3</td>\n",
       "      <td>11</td>\n",
       "      <td>0</td>\n",
       "    </tr>\n",
       "    <tr>\n",
       "      <th>2239</th>\n",
       "      <td>9405</td>\n",
       "      <td>1954</td>\n",
       "      <td>PhD</td>\n",
       "      <td>Married</td>\n",
       "      <td>52869.0</td>\n",
       "      <td>1</td>\n",
       "      <td>1</td>\n",
       "      <td>15-10-2012</td>\n",
       "      <td>40</td>\n",
       "      <td>84</td>\n",
       "      <td>...</td>\n",
       "      <td>7</td>\n",
       "      <td>0</td>\n",
       "      <td>0</td>\n",
       "      <td>0</td>\n",
       "      <td>0</td>\n",
       "      <td>0</td>\n",
       "      <td>0</td>\n",
       "      <td>3</td>\n",
       "      <td>11</td>\n",
       "      <td>1</td>\n",
       "    </tr>\n",
       "  </tbody>\n",
       "</table>\n",
       "<p>2240 rows × 29 columns</p>\n",
       "</div>"
      ],
      "text/plain": [
       "         ID  Year_Birth   Education Marital_Status   Income  Kidhome  \\\n",
       "0      5524        1957  Graduation         Single  58138.0        0   \n",
       "1      2174        1954  Graduation         Single  46344.0        1   \n",
       "2      4141        1965  Graduation       Together  71613.0        0   \n",
       "3      6182        1984  Graduation       Together  26646.0        1   \n",
       "4      5324        1981         PhD        Married  58293.0        1   \n",
       "...     ...         ...         ...            ...      ...      ...   \n",
       "2235  10870        1967  Graduation        Married  61223.0        0   \n",
       "2236   4001        1946         PhD       Together  64014.0        2   \n",
       "2237   7270        1981  Graduation       Divorced  56981.0        0   \n",
       "2238   8235        1956      Master       Together  69245.0        0   \n",
       "2239   9405        1954         PhD        Married  52869.0        1   \n",
       "\n",
       "      Teenhome Dt_Customer  Recency  MntWines  ...  NumWebVisitsMonth  \\\n",
       "0            0  04-09-2012       58       635  ...                  7   \n",
       "1            1  08-03-2014       38        11  ...                  5   \n",
       "2            0  21-08-2013       26       426  ...                  4   \n",
       "3            0  10-02-2014       26        11  ...                  6   \n",
       "4            0  19-01-2014       94       173  ...                  5   \n",
       "...        ...         ...      ...       ...  ...                ...   \n",
       "2235         1  13-06-2013       46       709  ...                  5   \n",
       "2236         1  10-06-2014       56       406  ...                  7   \n",
       "2237         0  25-01-2014       91       908  ...                  6   \n",
       "2238         1  24-01-2014        8       428  ...                  3   \n",
       "2239         1  15-10-2012       40        84  ...                  7   \n",
       "\n",
       "      AcceptedCmp3  AcceptedCmp4  AcceptedCmp5  AcceptedCmp1  AcceptedCmp2  \\\n",
       "0                0             0             0             0             0   \n",
       "1                0             0             0             0             0   \n",
       "2                0             0             0             0             0   \n",
       "3                0             0             0             0             0   \n",
       "4                0             0             0             0             0   \n",
       "...            ...           ...           ...           ...           ...   \n",
       "2235             0             0             0             0             0   \n",
       "2236             0             0             0             1             0   \n",
       "2237             0             1             0             0             0   \n",
       "2238             0             0             0             0             0   \n",
       "2239             0             0             0             0             0   \n",
       "\n",
       "      Complain  Z_CostContact  Z_Revenue  Response  \n",
       "0            0              3         11         1  \n",
       "1            0              3         11         0  \n",
       "2            0              3         11         0  \n",
       "3            0              3         11         0  \n",
       "4            0              3         11         0  \n",
       "...        ...            ...        ...       ...  \n",
       "2235         0              3         11         0  \n",
       "2236         0              3         11         0  \n",
       "2237         0              3         11         0  \n",
       "2238         0              3         11         0  \n",
       "2239         0              3         11         1  \n",
       "\n",
       "[2240 rows x 29 columns]"
      ]
     },
     "execution_count": 2,
     "metadata": {},
     "output_type": "execute_result"
    }
   ],
   "source": [
    "Data_Raw = pd.read_csv(\"Supermarket Customers.csv\",sep=\"\\t\")\n",
    "Data_Raw"
   ]
  },
  {
   "cell_type": "markdown",
   "metadata": {},
   "source": [
    "|People||\n",
    "|---|---|  \n",
    "| ID| Customer's unique identifier  |\n",
    "| Year_Birth| Customer's birth year  |\n",
    "| Education| Customer's education level  |\n",
    "| Marital_Status| Customer's marital status | \n",
    "| Income| Customer's yearly household income  |\n",
    "| Kidhome| Number of children in customer's household  |\n",
    "| Teenhome| Number of teenagers in customer's household  |\n",
    "| Dt_Customer| Date of customer's enrollment with the company | \n",
    "| Recency| Number of days since customer's last purchase  |\n",
    "| Complain| 1 if the customer complained in the last 2 years, 0 otherwise  |\n",
    "\n",
    "|Products  | |\n",
    "|---|---|  \n",
    "| MntWines| Amount spent on wine in last 2 years |\n",
    "| MntFruits| Amount spent on fruits in last 2 years |\n",
    "| MntMeatProducts| Amount spent on meat in last 2 years |\n",
    "| MntFishProducts| Amount spent on fish in last 2 years |\n",
    "| MntSweetProducts| Amount spent on sweets in last 2 years| \n",
    "| MntGoldProds| Amount spent on gold in last 2 years |\n",
    "\n",
    "|Promotion | | \n",
    "|---|---|  \n",
    "| NumDealsPurchases| Number of purchases made with a discount |\n",
    "| AcceptedCmp1| 1 if the customer accepted the offer in the 1st campaign, 0 otherwise |\n",
    "| AcceptedCmp2| 1 if the customer accepted the offer in the 2nd campaign, 0 otherwise |\n",
    "| AcceptedCmp3| 1 if the customer accepted the offer in the 3rd campaign, 0 otherwise |\n",
    "| AcceptedCmp4| 1 if the customer accepted the offer in the 4th campaign, 0 otherwise |\n",
    "| AcceptedCmp5| 1 if the customer accepted the offer in the 5th campaign, 0 otherwise |\n",
    "| Response| 1 if the customer accepted the offer in the last campaign, 0 otherwise |\n",
    "\n",
    "|Place  | |\n",
    "|---|---|  \n",
    "| NumWebPurchases| Number of purchases made through the company’s website |\n",
    "| NumCatalogPurchases| Number of purchases made using a catalog |\n",
    "| NumStorePurchases| Number of purchases made directly in stores |\n",
    "| NumWebVisitsMonth| Number of visits to the company’s website in the last month| "
   ]
  },
  {
   "cell_type": "markdown",
   "metadata": {},
   "source": [
    "-----"
   ]
  },
  {
   "cell_type": "markdown",
   "metadata": {},
   "source": [
    "### 2.Duplicate data\n",
    "\n"
   ]
  },
  {
   "cell_type": "code",
   "execution_count": 3,
   "metadata": {},
   "outputs": [
    {
     "data": {
      "text/html": [
       "<div>\n",
       "<style scoped>\n",
       "    .dataframe tbody tr th:only-of-type {\n",
       "        vertical-align: middle;\n",
       "    }\n",
       "\n",
       "    .dataframe tbody tr th {\n",
       "        vertical-align: top;\n",
       "    }\n",
       "\n",
       "    .dataframe thead th {\n",
       "        text-align: right;\n",
       "    }\n",
       "</style>\n",
       "<table border=\"1\" class=\"dataframe\">\n",
       "  <thead>\n",
       "    <tr style=\"text-align: right;\">\n",
       "      <th></th>\n",
       "      <th>ID</th>\n",
       "      <th>Year_Birth</th>\n",
       "      <th>Education</th>\n",
       "      <th>Marital_Status</th>\n",
       "      <th>Income</th>\n",
       "      <th>Kidhome</th>\n",
       "      <th>Teenhome</th>\n",
       "      <th>Dt_Customer</th>\n",
       "      <th>Recency</th>\n",
       "      <th>MntWines</th>\n",
       "      <th>...</th>\n",
       "      <th>NumWebVisitsMonth</th>\n",
       "      <th>AcceptedCmp3</th>\n",
       "      <th>AcceptedCmp4</th>\n",
       "      <th>AcceptedCmp5</th>\n",
       "      <th>AcceptedCmp1</th>\n",
       "      <th>AcceptedCmp2</th>\n",
       "      <th>Complain</th>\n",
       "      <th>Z_CostContact</th>\n",
       "      <th>Z_Revenue</th>\n",
       "      <th>Response</th>\n",
       "    </tr>\n",
       "  </thead>\n",
       "  <tbody>\n",
       "  </tbody>\n",
       "</table>\n",
       "<p>0 rows × 29 columns</p>\n",
       "</div>"
      ],
      "text/plain": [
       "Empty DataFrame\n",
       "Columns: [ID, Year_Birth, Education, Marital_Status, Income, Kidhome, Teenhome, Dt_Customer, Recency, MntWines, MntFruits, MntMeatProducts, MntFishProducts, MntSweetProducts, MntGoldProds, NumDealsPurchases, NumWebPurchases, NumCatalogPurchases, NumStorePurchases, NumWebVisitsMonth, AcceptedCmp3, AcceptedCmp4, AcceptedCmp5, AcceptedCmp1, AcceptedCmp2, Complain, Z_CostContact, Z_Revenue, Response]\n",
       "Index: []\n",
       "\n",
       "[0 rows x 29 columns]"
      ]
     },
     "execution_count": 3,
     "metadata": {},
     "output_type": "execute_result"
    }
   ],
   "source": [
    "Data_Raw[Data_Raw.duplicated()]"
   ]
  },
  {
   "cell_type": "markdown",
   "metadata": {},
   "source": [
    "Ditemukan tidak ada data yang duplicate"
   ]
  },
  {
   "cell_type": "markdown",
   "metadata": {},
   "source": [
    "-----"
   ]
  },
  {
   "cell_type": "markdown",
   "metadata": {},
   "source": [
    "### 3.NAN Data"
   ]
  },
  {
   "cell_type": "code",
   "execution_count": 4,
   "metadata": {},
   "outputs": [
    {
     "data": {
      "text/plain": [
       "ID                     0.000000\n",
       "Year_Birth             0.000000\n",
       "Education              0.000000\n",
       "Marital_Status         0.000000\n",
       "Income                 1.071429\n",
       "Kidhome                0.000000\n",
       "Teenhome               0.000000\n",
       "Dt_Customer            0.000000\n",
       "Recency                0.000000\n",
       "MntWines               0.000000\n",
       "MntFruits              0.000000\n",
       "MntMeatProducts        0.000000\n",
       "MntFishProducts        0.000000\n",
       "MntSweetProducts       0.000000\n",
       "MntGoldProds           0.000000\n",
       "NumDealsPurchases      0.000000\n",
       "NumWebPurchases        0.000000\n",
       "NumCatalogPurchases    0.000000\n",
       "NumStorePurchases      0.000000\n",
       "NumWebVisitsMonth      0.000000\n",
       "AcceptedCmp3           0.000000\n",
       "AcceptedCmp4           0.000000\n",
       "AcceptedCmp5           0.000000\n",
       "AcceptedCmp1           0.000000\n",
       "AcceptedCmp2           0.000000\n",
       "Complain               0.000000\n",
       "Z_CostContact          0.000000\n",
       "Z_Revenue              0.000000\n",
       "Response               0.000000\n",
       "dtype: float64"
      ]
     },
     "execution_count": 4,
     "metadata": {},
     "output_type": "execute_result"
    }
   ],
   "source": [
    "(Data_Raw.isna().sum()/len(Data_Raw))*100"
   ]
  },
  {
   "cell_type": "markdown",
   "metadata": {},
   "source": [
    "1.Di temukan di kolom income terdapat 1% Data berupa NAN  \n",
    "2.Langkah yang bisa di lakukan adalah dengan cara mengisi NAN dengan median income pelanggan bedasarkan pendidikan terakhirnya"
   ]
  },
  {
   "cell_type": "markdown",
   "metadata": {},
   "source": [
    "Mengisi NAN Income"
   ]
  },
  {
   "cell_type": "code",
   "execution_count": 5,
   "metadata": {},
   "outputs": [
    {
     "data": {
      "text/plain": [
       "Index(['ID', 'Year_Birth', 'Education', 'Marital_Status', 'Income', 'Kidhome',\n",
       "       'Teenhome', 'Dt_Customer', 'Recency', 'MntWines', 'MntFruits',\n",
       "       'MntMeatProducts', 'MntFishProducts', 'MntSweetProducts',\n",
       "       'MntGoldProds', 'NumDealsPurchases', 'NumWebPurchases',\n",
       "       'NumCatalogPurchases', 'NumStorePurchases', 'NumWebVisitsMonth',\n",
       "       'AcceptedCmp3', 'AcceptedCmp4', 'AcceptedCmp5', 'AcceptedCmp1',\n",
       "       'AcceptedCmp2', 'Complain', 'Z_CostContact', 'Z_Revenue', 'Response'],\n",
       "      dtype='object')"
      ]
     },
     "execution_count": 5,
     "metadata": {},
     "output_type": "execute_result"
    }
   ],
   "source": [
    "Data_Raw.columns"
   ]
  },
  {
   "cell_type": "code",
   "execution_count": 6,
   "metadata": {},
   "outputs": [
    {
     "data": {
      "text/plain": [
       "Education\n",
       "2n Cycle      46805.0\n",
       "Basic         20744.0\n",
       "Graduation    52028.5\n",
       "Master        50943.0\n",
       "PhD           55212.0\n",
       "Name: Income, dtype: float64"
      ]
     },
     "execution_count": 6,
     "metadata": {},
     "output_type": "execute_result"
    }
   ],
   "source": [
    "Data_Raw.groupby(\"Education\")['Income'].median()"
   ]
  },
  {
   "cell_type": "markdown",
   "metadata": {},
   "source": [
    "2n cycle sama dengan  maka langkah selanjutnya adalah mengubah 2n cycle menjadi master"
   ]
  },
  {
   "cell_type": "code",
   "execution_count": 7,
   "metadata": {},
   "outputs": [],
   "source": [
    "Data_Raw.loc[Data_Raw['Education']=='2n Cycle','Education'] = 'Master'"
   ]
  },
  {
   "cell_type": "code",
   "execution_count": 8,
   "metadata": {},
   "outputs": [
    {
     "data": {
      "text/plain": [
       "Education\n",
       "Basic         20744.0\n",
       "Graduation    52028.5\n",
       "Master        49605.0\n",
       "PhD           55212.0\n",
       "Name: Income, dtype: float64"
      ]
     },
     "execution_count": 8,
     "metadata": {},
     "output_type": "execute_result"
    }
   ],
   "source": [
    "median_edu = Data_Raw.groupby(\"Education\")['Income'].median()\n",
    "median_edu"
   ]
  },
  {
   "cell_type": "markdown",
   "metadata": {},
   "source": [
    "Selanjutnya NAN income akan diisi dengan median income bedasarkan background pendidikan"
   ]
  },
  {
   "cell_type": "code",
   "execution_count": 9,
   "metadata": {},
   "outputs": [],
   "source": [
    "for i in median_edu.index:\n",
    "    Data_Raw.loc[(Data_Raw['Education']==i) & (Data_Raw['Income'].isna()),'Income'] = median_edu[i]"
   ]
  },
  {
   "cell_type": "markdown",
   "metadata": {},
   "source": [
    "--------------"
   ]
  },
  {
   "cell_type": "markdown",
   "metadata": {},
   "source": [
    "### 4. Variable mempermudah\n",
    "\n",
    "menyatukan semua cmp dan semua prouduct ke dalam satu variable untuk mempermudah proses coding"
   ]
  },
  {
   "cell_type": "code",
   "execution_count": 10,
   "metadata": {},
   "outputs": [],
   "source": [
    "AcceptCmp = ['AcceptedCmp1','AcceptedCmp2','AcceptedCmp3', 'AcceptedCmp4', 'AcceptedCmp5','Response']\n",
    "Products = ['MntWines','MntFruits','MntMeatProducts','MntFishProducts','MntSweetProducts','MntGoldProds']"
   ]
  },
  {
   "cell_type": "markdown",
   "metadata": {},
   "source": [
    "------"
   ]
  },
  {
   "cell_type": "markdown",
   "metadata": {},
   "source": [
    "### 5.Rentang Tahun Lahir Pelanggan"
   ]
  },
  {
   "cell_type": "code",
   "execution_count": 11,
   "metadata": {},
   "outputs": [
    {
     "data": {
      "text/plain": [
       "Year_Birth\n",
       "1976    89\n",
       "1971    87\n",
       "1975    83\n",
       "1972    79\n",
       "1978    77\n",
       "1970    77\n",
       "1973    74\n",
       "1965    74\n",
       "1969    71\n",
       "1974    69\n",
       "1956    55\n",
       "1958    53\n",
       "1979    53\n",
       "1952    52\n",
       "1977    52\n",
       "1968    51\n",
       "1959    51\n",
       "1966    50\n",
       "1954    50\n",
       "1955    49\n",
       "1960    49\n",
       "1982    45\n",
       "1963    45\n",
       "1967    44\n",
       "1962    44\n",
       "1957    43\n",
       "1951    43\n",
       "1983    42\n",
       "1986    42\n",
       "1964    42\n",
       "1980    39\n",
       "1981    39\n",
       "1984    38\n",
       "1961    36\n",
       "1953    35\n",
       "1985    32\n",
       "1989    30\n",
       "1949    30\n",
       "1950    29\n",
       "1988    29\n",
       "1987    27\n",
       "1948    21\n",
       "1990    18\n",
       "1946    16\n",
       "1947    16\n",
       "1991    15\n",
       "1992    13\n",
       "1945     8\n",
       "1943     7\n",
       "1944     7\n",
       "1993     5\n",
       "1995     5\n",
       "1994     3\n",
       "1996     2\n",
       "1899     1\n",
       "1941     1\n",
       "1893     1\n",
       "1900     1\n",
       "1940     1\n",
       "Name: count, dtype: int64"
      ]
     },
     "execution_count": 11,
     "metadata": {},
     "output_type": "execute_result"
    }
   ],
   "source": [
    "Data_Raw['Year_Birth'].value_counts()\n"
   ]
  },
  {
   "cell_type": "markdown",
   "metadata": {},
   "source": [
    "Bisa dilihat tahun lahir pelanggan berasa dari tahun 1940 sampai 1996 tetapi ada 3 orang \n",
    "yang tanggal lahirnya berjarak lebih dari 40 tahun dari 1940, tahun 1893, 1899 dan 1900\n"
   ]
  },
  {
   "cell_type": "code",
   "execution_count": 12,
   "metadata": {},
   "outputs": [
    {
     "data": {
      "text/html": [
       "<div>\n",
       "<style scoped>\n",
       "    .dataframe tbody tr th:only-of-type {\n",
       "        vertical-align: middle;\n",
       "    }\n",
       "\n",
       "    .dataframe tbody tr th {\n",
       "        vertical-align: top;\n",
       "    }\n",
       "\n",
       "    .dataframe thead th {\n",
       "        text-align: right;\n",
       "    }\n",
       "</style>\n",
       "<table border=\"1\" class=\"dataframe\">\n",
       "  <thead>\n",
       "    <tr style=\"text-align: right;\">\n",
       "      <th></th>\n",
       "      <th>Year_Birth</th>\n",
       "      <th>AcceptedCmp1</th>\n",
       "      <th>AcceptedCmp2</th>\n",
       "      <th>AcceptedCmp3</th>\n",
       "      <th>AcceptedCmp4</th>\n",
       "      <th>AcceptedCmp5</th>\n",
       "      <th>Response</th>\n",
       "    </tr>\n",
       "  </thead>\n",
       "  <tbody>\n",
       "    <tr>\n",
       "      <th>192</th>\n",
       "      <td>1900</td>\n",
       "      <td>0</td>\n",
       "      <td>0</td>\n",
       "      <td>0</td>\n",
       "      <td>0</td>\n",
       "      <td>0</td>\n",
       "      <td>0</td>\n",
       "    </tr>\n",
       "    <tr>\n",
       "      <th>239</th>\n",
       "      <td>1893</td>\n",
       "      <td>0</td>\n",
       "      <td>0</td>\n",
       "      <td>0</td>\n",
       "      <td>0</td>\n",
       "      <td>0</td>\n",
       "      <td>0</td>\n",
       "    </tr>\n",
       "    <tr>\n",
       "      <th>339</th>\n",
       "      <td>1899</td>\n",
       "      <td>0</td>\n",
       "      <td>0</td>\n",
       "      <td>0</td>\n",
       "      <td>0</td>\n",
       "      <td>1</td>\n",
       "      <td>0</td>\n",
       "    </tr>\n",
       "  </tbody>\n",
       "</table>\n",
       "</div>"
      ],
      "text/plain": [
       "     Year_Birth  AcceptedCmp1  AcceptedCmp2  AcceptedCmp3  AcceptedCmp4  \\\n",
       "192        1900             0             0             0             0   \n",
       "239        1893             0             0             0             0   \n",
       "339        1899             0             0             0             0   \n",
       "\n",
       "     AcceptedCmp5  Response  \n",
       "192             0         0  \n",
       "239             0         0  \n",
       "339             1         0  "
      ]
     },
     "execution_count": 12,
     "metadata": {},
     "output_type": "execute_result"
    }
   ],
   "source": [
    "Data_Raw[(Data_Raw['Year_Birth']==1893) | (Data_Raw['Year_Birth']==1899) | (Data_Raw['Year_Birth']==1900)][['Year_Birth']+AcceptCmp]"
   ]
  },
  {
   "cell_type": "markdown",
   "metadata": {},
   "source": [
    "- 3 Pelanggan yang lahir nya di tahun 1900,1893 dan 1899. Dari total 18 promosi yang dilakukan hanya 1 yang keterima jadi bisa disimpulkan bahwa mereka tidak memberikan pengaruh yang banyak dalam hal penerimaan promosi\n",
    "- karena kecil maka data pelanggan yang lahir di tahun tersebut bisa tidak digunakan "
   ]
  },
  {
   "cell_type": "code",
   "execution_count": 13,
   "metadata": {},
   "outputs": [],
   "source": [
    "Data_Raw = Data_Raw[~((Data_Raw['Year_Birth']==1893) | (Data_Raw['Year_Birth']==1899) | (Data_Raw['Year_Birth']==1900))]"
   ]
  },
  {
   "cell_type": "markdown",
   "metadata": {},
   "source": [
    "----"
   ]
  },
  {
   "cell_type": "markdown",
   "metadata": {},
   "source": [
    "### 6. Age Group\n",
    "Disini akan dilakukan pengelompakan umur per 10 tahun dimulai dari umur 25 tahun\n",
    "dengan membuat kolom baru terlebih dengan mengurangi 2023 dengan tahun lahir pelanggan  "
   ]
  },
  {
   "cell_type": "code",
   "execution_count": 14,
   "metadata": {},
   "outputs": [
    {
     "name": "stderr",
     "output_type": "stream",
     "text": [
      "C:\\Users\\usera\\AppData\\Local\\Temp\\ipykernel_27664\\442396115.py:1: SettingWithCopyWarning: \n",
      "A value is trying to be set on a copy of a slice from a DataFrame.\n",
      "Try using .loc[row_indexer,col_indexer] = value instead\n",
      "\n",
      "See the caveats in the documentation: https://pandas.pydata.org/pandas-docs/stable/user_guide/indexing.html#returning-a-view-versus-a-copy\n",
      "  Data_Raw['Age'] = 2023- Data_Raw['Year_Birth']\n",
      "C:\\Users\\usera\\AppData\\Local\\Temp\\ipykernel_27664\\442396115.py:3: SettingWithCopyWarning: \n",
      "A value is trying to be set on a copy of a slice from a DataFrame.\n",
      "Try using .loc[row_indexer,col_indexer] = value instead\n",
      "\n",
      "See the caveats in the documentation: https://pandas.pydata.org/pandas-docs/stable/user_guide/indexing.html#returning-a-view-versus-a-copy\n",
      "  Data_Raw['AgeGroup'] = pd.cut(Data_Raw['Age'], bins=age_bins, labels=[f'{i}-{i+9}' for i in age_bins[:-1]])\n"
     ]
    }
   ],
   "source": [
    "Data_Raw['Age'] = 2023- Data_Raw['Year_Birth']\n",
    "age_bins = range(25, 86, 10)\n",
    "Data_Raw['AgeGroup'] = pd.cut(Data_Raw['Age'], bins=age_bins, labels=[f'{i}-{i+9}' for i in age_bins[:-1]])"
   ]
  },
  {
   "cell_type": "markdown",
   "metadata": {},
   "source": [
    "-----"
   ]
  },
  {
   "cell_type": "markdown",
   "metadata": {},
   "source": [
    "### 7. Total Anak"
   ]
  },
  {
   "cell_type": "code",
   "execution_count": 15,
   "metadata": {},
   "outputs": [
    {
     "name": "stderr",
     "output_type": "stream",
     "text": [
      "C:\\Users\\usera\\AppData\\Local\\Temp\\ipykernel_27664\\221947151.py:1: SettingWithCopyWarning: \n",
      "A value is trying to be set on a copy of a slice from a DataFrame.\n",
      "Try using .loc[row_indexer,col_indexer] = value instead\n",
      "\n",
      "See the caveats in the documentation: https://pandas.pydata.org/pandas-docs/stable/user_guide/indexing.html#returning-a-view-versus-a-copy\n",
      "  Data_Raw['Total Anak'] = Data_Raw['Teenhome'] + Data_Raw['Kidhome']\n",
      "C:\\Users\\usera\\AppData\\Local\\Temp\\ipykernel_27664\\221947151.py:2: SettingWithCopyWarning: \n",
      "A value is trying to be set on a copy of a slice from a DataFrame.\n",
      "Try using .loc[row_indexer,col_indexer] = value instead\n",
      "\n",
      "See the caveats in the documentation: https://pandas.pydata.org/pandas-docs/stable/user_guide/indexing.html#returning-a-view-versus-a-copy\n",
      "  Data_Raw['Punya Anak'] = 'Yes'\n"
     ]
    }
   ],
   "source": [
    "Data_Raw['Total Anak'] = Data_Raw['Teenhome'] + Data_Raw['Kidhome']\n",
    "Data_Raw['Punya Anak'] = 'Yes' \n",
    "\n",
    "Data_Raw.loc[Data_Raw['Total Anak'] == 0, 'Punya Anak'] = 'No'"
   ]
  },
  {
   "cell_type": "markdown",
   "metadata": {},
   "source": [
    "Membuat kolom baru 'Total Anak' dengan menjumlahkan anak kecil dan anak remaja yang dimiliki oleh pelanggan  \n",
    "Juga membuat kolom baru 'Punya Anak' yang akan diisi no jika 'Total Anak' sama dengan 0 lalu yes jika lebih dari 0  \n",
    "Data nanti akan digunakan untuk mengetahui apakah memiliki anak mempunyayi hubungan dengan tingkat penerimaan promosi"
   ]
  },
  {
   "cell_type": "markdown",
   "metadata": {},
   "source": [
    "----"
   ]
  },
  {
   "cell_type": "markdown",
   "metadata": {},
   "source": [
    "### 8. Perubahan Tipe Data\n",
    "\n",
    "Dari info data Dt_Customer yang berupa tanggal masih berbentuk objek maka harus dirubah dulu ke bentuk datetime agar dalam analisa nanti memudahkan untuk pengambilan tahun, bulan, hari, dst "
   ]
  },
  {
   "cell_type": "code",
   "execution_count": 16,
   "metadata": {},
   "outputs": [
    {
     "name": "stderr",
     "output_type": "stream",
     "text": [
      "C:\\Users\\usera\\AppData\\Local\\Temp\\ipykernel_27664\\2411100182.py:1: SettingWithCopyWarning: \n",
      "A value is trying to be set on a copy of a slice from a DataFrame.\n",
      "Try using .loc[row_indexer,col_indexer] = value instead\n",
      "\n",
      "See the caveats in the documentation: https://pandas.pydata.org/pandas-docs/stable/user_guide/indexing.html#returning-a-view-versus-a-copy\n",
      "  Data_Raw['Dt_Customer'] = pd.to_datetime(Data_Raw['Dt_Customer'], format=\"%d-%m-%Y\")\n"
     ]
    }
   ],
   "source": [
    "Data_Raw['Dt_Customer'] = pd.to_datetime(Data_Raw['Dt_Customer'], format=\"%d-%m-%Y\")"
   ]
  },
  {
   "cell_type": "markdown",
   "metadata": {},
   "source": [
    "----"
   ]
  },
  {
   "cell_type": "markdown",
   "metadata": {},
   "source": [
    "### 9.Total Accepted Campaign\n",
    "Disini dilakukan penjumlahan semua accepted campaign untuk analisa lanjutan mengetahui yang menerima paling tidak sekali dan yang tidak menerima sama sekali.  \n",
    "jika penerimaan nya besar maka kita bisa meningkatkan nya dengan mengetahui mengapa mayoritas menerima tetapi jika penerimaan nya kecil maka untuk meningkatkan nya harus menganalisa mengapa banya ditolak"
   ]
  },
  {
   "cell_type": "code",
   "execution_count": 17,
   "metadata": {},
   "outputs": [
    {
     "name": "stderr",
     "output_type": "stream",
     "text": [
      "C:\\Users\\usera\\AppData\\Local\\Temp\\ipykernel_27664\\3071894122.py:1: SettingWithCopyWarning: \n",
      "A value is trying to be set on a copy of a slice from a DataFrame.\n",
      "Try using .loc[row_indexer,col_indexer] = value instead\n",
      "\n",
      "See the caveats in the documentation: https://pandas.pydata.org/pandas-docs/stable/user_guide/indexing.html#returning-a-view-versus-a-copy\n",
      "  Data_Raw['TotalAccCmp'] = Data_Raw[AcceptCmp].sum(axis=1)\n"
     ]
    }
   ],
   "source": [
    "Data_Raw['TotalAccCmp'] = Data_Raw[AcceptCmp].sum(axis=1)"
   ]
  },
  {
   "cell_type": "markdown",
   "metadata": {},
   "source": [
    "### 10. Fungsi"
   ]
  },
  {
   "cell_type": "code",
   "execution_count": 18,
   "metadata": {},
   "outputs": [],
   "source": [
    "def checkNormal(x):\n",
    "    stat, p_value = shapiro(x)\n",
    "    alpha = 0.05\n",
    "    if p_value > alpha:\n",
    "        print(\"Sample looks Gaussian (fail to reject H0)\")\n",
    "        print(p_value)\n",
    "    else:\n",
    "        print(\"Sample does not look Gaussian (reject H0)\")\n",
    "        print(p_value)"
   ]
  },
  {
   "cell_type": "markdown",
   "metadata": {},
   "source": [
    "# Analisis"
   ]
  },
  {
   "cell_type": "code",
   "execution_count": 19,
   "metadata": {},
   "outputs": [
    {
     "data": {
      "text/html": [
       "<div>\n",
       "<style scoped>\n",
       "    .dataframe tbody tr th:only-of-type {\n",
       "        vertical-align: middle;\n",
       "    }\n",
       "\n",
       "    .dataframe tbody tr th {\n",
       "        vertical-align: top;\n",
       "    }\n",
       "\n",
       "    .dataframe thead th {\n",
       "        text-align: right;\n",
       "    }\n",
       "</style>\n",
       "<table border=\"1\" class=\"dataframe\">\n",
       "  <thead>\n",
       "    <tr style=\"text-align: right;\">\n",
       "      <th></th>\n",
       "      <th>ID</th>\n",
       "      <th>Year_Birth</th>\n",
       "      <th>Education</th>\n",
       "      <th>Marital_Status</th>\n",
       "      <th>Income</th>\n",
       "      <th>Kidhome</th>\n",
       "      <th>Teenhome</th>\n",
       "      <th>Dt_Customer</th>\n",
       "      <th>Recency</th>\n",
       "      <th>MntWines</th>\n",
       "      <th>MntFruits</th>\n",
       "      <th>MntMeatProducts</th>\n",
       "    </tr>\n",
       "  </thead>\n",
       "  <tbody>\n",
       "    <tr>\n",
       "      <th>0</th>\n",
       "      <td>5524</td>\n",
       "      <td>1957</td>\n",
       "      <td>Graduation</td>\n",
       "      <td>Single</td>\n",
       "      <td>58138.0</td>\n",
       "      <td>0</td>\n",
       "      <td>0</td>\n",
       "      <td>2012-09-04</td>\n",
       "      <td>58</td>\n",
       "      <td>635</td>\n",
       "      <td>88</td>\n",
       "      <td>546</td>\n",
       "    </tr>\n",
       "    <tr>\n",
       "      <th>1</th>\n",
       "      <td>2174</td>\n",
       "      <td>1954</td>\n",
       "      <td>Graduation</td>\n",
       "      <td>Single</td>\n",
       "      <td>46344.0</td>\n",
       "      <td>1</td>\n",
       "      <td>1</td>\n",
       "      <td>2014-03-08</td>\n",
       "      <td>38</td>\n",
       "      <td>11</td>\n",
       "      <td>1</td>\n",
       "      <td>6</td>\n",
       "    </tr>\n",
       "    <tr>\n",
       "      <th>2</th>\n",
       "      <td>4141</td>\n",
       "      <td>1965</td>\n",
       "      <td>Graduation</td>\n",
       "      <td>Together</td>\n",
       "      <td>71613.0</td>\n",
       "      <td>0</td>\n",
       "      <td>0</td>\n",
       "      <td>2013-08-21</td>\n",
       "      <td>26</td>\n",
       "      <td>426</td>\n",
       "      <td>49</td>\n",
       "      <td>127</td>\n",
       "    </tr>\n",
       "    <tr>\n",
       "      <th>3</th>\n",
       "      <td>6182</td>\n",
       "      <td>1984</td>\n",
       "      <td>Graduation</td>\n",
       "      <td>Together</td>\n",
       "      <td>26646.0</td>\n",
       "      <td>1</td>\n",
       "      <td>0</td>\n",
       "      <td>2014-02-10</td>\n",
       "      <td>26</td>\n",
       "      <td>11</td>\n",
       "      <td>4</td>\n",
       "      <td>20</td>\n",
       "    </tr>\n",
       "    <tr>\n",
       "      <th>4</th>\n",
       "      <td>5324</td>\n",
       "      <td>1981</td>\n",
       "      <td>PhD</td>\n",
       "      <td>Married</td>\n",
       "      <td>58293.0</td>\n",
       "      <td>1</td>\n",
       "      <td>0</td>\n",
       "      <td>2014-01-19</td>\n",
       "      <td>94</td>\n",
       "      <td>173</td>\n",
       "      <td>43</td>\n",
       "      <td>118</td>\n",
       "    </tr>\n",
       "  </tbody>\n",
       "</table>\n",
       "</div>"
      ],
      "text/plain": [
       "     ID  Year_Birth   Education Marital_Status   Income  Kidhome  Teenhome  \\\n",
       "0  5524        1957  Graduation         Single  58138.0        0         0   \n",
       "1  2174        1954  Graduation         Single  46344.0        1         1   \n",
       "2  4141        1965  Graduation       Together  71613.0        0         0   \n",
       "3  6182        1984  Graduation       Together  26646.0        1         0   \n",
       "4  5324        1981         PhD        Married  58293.0        1         0   \n",
       "\n",
       "  Dt_Customer  Recency  MntWines  MntFruits  MntMeatProducts  \n",
       "0  2012-09-04       58       635         88              546  \n",
       "1  2014-03-08       38        11          1                6  \n",
       "2  2013-08-21       26       426         49              127  \n",
       "3  2014-02-10       26        11          4               20  \n",
       "4  2014-01-19       94       173         43              118  "
      ]
     },
     "metadata": {},
     "output_type": "display_data"
    },
    {
     "data": {
      "text/html": [
       "<div>\n",
       "<style scoped>\n",
       "    .dataframe tbody tr th:only-of-type {\n",
       "        vertical-align: middle;\n",
       "    }\n",
       "\n",
       "    .dataframe tbody tr th {\n",
       "        vertical-align: top;\n",
       "    }\n",
       "\n",
       "    .dataframe thead th {\n",
       "        text-align: right;\n",
       "    }\n",
       "</style>\n",
       "<table border=\"1\" class=\"dataframe\">\n",
       "  <thead>\n",
       "    <tr style=\"text-align: right;\">\n",
       "      <th></th>\n",
       "      <th>MntFishProducts</th>\n",
       "      <th>MntSweetProducts</th>\n",
       "      <th>MntGoldProds</th>\n",
       "      <th>NumDealsPurchases</th>\n",
       "      <th>NumWebPurchases</th>\n",
       "      <th>NumCatalogPurchases</th>\n",
       "      <th>NumStorePurchases</th>\n",
       "      <th>NumWebVisitsMonth</th>\n",
       "    </tr>\n",
       "  </thead>\n",
       "  <tbody>\n",
       "    <tr>\n",
       "      <th>0</th>\n",
       "      <td>172</td>\n",
       "      <td>88</td>\n",
       "      <td>88</td>\n",
       "      <td>3</td>\n",
       "      <td>8</td>\n",
       "      <td>10</td>\n",
       "      <td>4</td>\n",
       "      <td>7</td>\n",
       "    </tr>\n",
       "    <tr>\n",
       "      <th>1</th>\n",
       "      <td>2</td>\n",
       "      <td>1</td>\n",
       "      <td>6</td>\n",
       "      <td>2</td>\n",
       "      <td>1</td>\n",
       "      <td>1</td>\n",
       "      <td>2</td>\n",
       "      <td>5</td>\n",
       "    </tr>\n",
       "    <tr>\n",
       "      <th>2</th>\n",
       "      <td>111</td>\n",
       "      <td>21</td>\n",
       "      <td>42</td>\n",
       "      <td>1</td>\n",
       "      <td>8</td>\n",
       "      <td>2</td>\n",
       "      <td>10</td>\n",
       "      <td>4</td>\n",
       "    </tr>\n",
       "    <tr>\n",
       "      <th>3</th>\n",
       "      <td>10</td>\n",
       "      <td>3</td>\n",
       "      <td>5</td>\n",
       "      <td>2</td>\n",
       "      <td>2</td>\n",
       "      <td>0</td>\n",
       "      <td>4</td>\n",
       "      <td>6</td>\n",
       "    </tr>\n",
       "    <tr>\n",
       "      <th>4</th>\n",
       "      <td>46</td>\n",
       "      <td>27</td>\n",
       "      <td>15</td>\n",
       "      <td>5</td>\n",
       "      <td>5</td>\n",
       "      <td>3</td>\n",
       "      <td>6</td>\n",
       "      <td>5</td>\n",
       "    </tr>\n",
       "  </tbody>\n",
       "</table>\n",
       "</div>"
      ],
      "text/plain": [
       "   MntFishProducts  MntSweetProducts  MntGoldProds  NumDealsPurchases  \\\n",
       "0              172                88            88                  3   \n",
       "1                2                 1             6                  2   \n",
       "2              111                21            42                  1   \n",
       "3               10                 3             5                  2   \n",
       "4               46                27            15                  5   \n",
       "\n",
       "   NumWebPurchases  NumCatalogPurchases  NumStorePurchases  NumWebVisitsMonth  \n",
       "0                8                   10                  4                  7  \n",
       "1                1                    1                  2                  5  \n",
       "2                8                    2                 10                  4  \n",
       "3                2                    0                  4                  6  \n",
       "4                5                    3                  6                  5  "
      ]
     },
     "metadata": {},
     "output_type": "display_data"
    },
    {
     "data": {
      "text/html": [
       "<div>\n",
       "<style scoped>\n",
       "    .dataframe tbody tr th:only-of-type {\n",
       "        vertical-align: middle;\n",
       "    }\n",
       "\n",
       "    .dataframe tbody tr th {\n",
       "        vertical-align: top;\n",
       "    }\n",
       "\n",
       "    .dataframe thead th {\n",
       "        text-align: right;\n",
       "    }\n",
       "</style>\n",
       "<table border=\"1\" class=\"dataframe\">\n",
       "  <thead>\n",
       "    <tr style=\"text-align: right;\">\n",
       "      <th></th>\n",
       "      <th>AcceptedCmp1</th>\n",
       "      <th>AcceptedCmp2</th>\n",
       "      <th>AcceptedCmp3</th>\n",
       "      <th>AcceptedCmp4</th>\n",
       "      <th>AcceptedCmp5</th>\n",
       "      <th>Complain</th>\n",
       "      <th>Z_CostContact</th>\n",
       "      <th>Z_Revenue</th>\n",
       "      <th>Response</th>\n",
       "      <th>TotalAccCmp</th>\n",
       "    </tr>\n",
       "  </thead>\n",
       "  <tbody>\n",
       "    <tr>\n",
       "      <th>0</th>\n",
       "      <td>0</td>\n",
       "      <td>0</td>\n",
       "      <td>0</td>\n",
       "      <td>0</td>\n",
       "      <td>0</td>\n",
       "      <td>0</td>\n",
       "      <td>3</td>\n",
       "      <td>11</td>\n",
       "      <td>1</td>\n",
       "      <td>1</td>\n",
       "    </tr>\n",
       "    <tr>\n",
       "      <th>1</th>\n",
       "      <td>0</td>\n",
       "      <td>0</td>\n",
       "      <td>0</td>\n",
       "      <td>0</td>\n",
       "      <td>0</td>\n",
       "      <td>0</td>\n",
       "      <td>3</td>\n",
       "      <td>11</td>\n",
       "      <td>0</td>\n",
       "      <td>0</td>\n",
       "    </tr>\n",
       "    <tr>\n",
       "      <th>2</th>\n",
       "      <td>0</td>\n",
       "      <td>0</td>\n",
       "      <td>0</td>\n",
       "      <td>0</td>\n",
       "      <td>0</td>\n",
       "      <td>0</td>\n",
       "      <td>3</td>\n",
       "      <td>11</td>\n",
       "      <td>0</td>\n",
       "      <td>0</td>\n",
       "    </tr>\n",
       "    <tr>\n",
       "      <th>3</th>\n",
       "      <td>0</td>\n",
       "      <td>0</td>\n",
       "      <td>0</td>\n",
       "      <td>0</td>\n",
       "      <td>0</td>\n",
       "      <td>0</td>\n",
       "      <td>3</td>\n",
       "      <td>11</td>\n",
       "      <td>0</td>\n",
       "      <td>0</td>\n",
       "    </tr>\n",
       "    <tr>\n",
       "      <th>4</th>\n",
       "      <td>0</td>\n",
       "      <td>0</td>\n",
       "      <td>0</td>\n",
       "      <td>0</td>\n",
       "      <td>0</td>\n",
       "      <td>0</td>\n",
       "      <td>3</td>\n",
       "      <td>11</td>\n",
       "      <td>0</td>\n",
       "      <td>0</td>\n",
       "    </tr>\n",
       "  </tbody>\n",
       "</table>\n",
       "</div>"
      ],
      "text/plain": [
       "   AcceptedCmp1  AcceptedCmp2  AcceptedCmp3  AcceptedCmp4  AcceptedCmp5  \\\n",
       "0             0             0             0             0             0   \n",
       "1             0             0             0             0             0   \n",
       "2             0             0             0             0             0   \n",
       "3             0             0             0             0             0   \n",
       "4             0             0             0             0             0   \n",
       "\n",
       "   Complain  Z_CostContact  Z_Revenue  Response  TotalAccCmp  \n",
       "0         0              3         11         1            1  \n",
       "1         0              3         11         0            0  \n",
       "2         0              3         11         0            0  \n",
       "3         0              3         11         0            0  \n",
       "4         0              3         11         0            0  "
      ]
     },
     "metadata": {},
     "output_type": "display_data"
    },
    {
     "data": {
      "text/html": [
       "<div>\n",
       "<style scoped>\n",
       "    .dataframe tbody tr th:only-of-type {\n",
       "        vertical-align: middle;\n",
       "    }\n",
       "\n",
       "    .dataframe tbody tr th {\n",
       "        vertical-align: top;\n",
       "    }\n",
       "\n",
       "    .dataframe thead th {\n",
       "        text-align: right;\n",
       "    }\n",
       "</style>\n",
       "<table border=\"1\" class=\"dataframe\">\n",
       "  <thead>\n",
       "    <tr style=\"text-align: right;\">\n",
       "      <th></th>\n",
       "      <th>Age</th>\n",
       "      <th>AgeGroup</th>\n",
       "      <th>Total Anak</th>\n",
       "      <th>Punya Anak</th>\n",
       "    </tr>\n",
       "  </thead>\n",
       "  <tbody>\n",
       "    <tr>\n",
       "      <th>0</th>\n",
       "      <td>66</td>\n",
       "      <td>65-74</td>\n",
       "      <td>0</td>\n",
       "      <td>No</td>\n",
       "    </tr>\n",
       "    <tr>\n",
       "      <th>1</th>\n",
       "      <td>69</td>\n",
       "      <td>65-74</td>\n",
       "      <td>2</td>\n",
       "      <td>Yes</td>\n",
       "    </tr>\n",
       "    <tr>\n",
       "      <th>2</th>\n",
       "      <td>58</td>\n",
       "      <td>55-64</td>\n",
       "      <td>0</td>\n",
       "      <td>No</td>\n",
       "    </tr>\n",
       "    <tr>\n",
       "      <th>3</th>\n",
       "      <td>39</td>\n",
       "      <td>35-44</td>\n",
       "      <td>1</td>\n",
       "      <td>Yes</td>\n",
       "    </tr>\n",
       "    <tr>\n",
       "      <th>4</th>\n",
       "      <td>42</td>\n",
       "      <td>35-44</td>\n",
       "      <td>1</td>\n",
       "      <td>Yes</td>\n",
       "    </tr>\n",
       "  </tbody>\n",
       "</table>\n",
       "</div>"
      ],
      "text/plain": [
       "   Age AgeGroup  Total Anak Punya Anak\n",
       "0   66    65-74           0         No\n",
       "1   69    65-74           2        Yes\n",
       "2   58    55-64           0         No\n",
       "3   39    35-44           1        Yes\n",
       "4   42    35-44           1        Yes"
      ]
     },
     "metadata": {},
     "output_type": "display_data"
    }
   ],
   "source": [
    "#Disini hanya ingin memetakan kolom beserta data dengan sampel 5 data\n",
    "display(Data_Raw[['ID', 'Year_Birth', 'Education', 'Marital_Status', 'Income', 'Kidhome','Teenhome', 'Dt_Customer', 'Recency', 'MntWines','MntFruits','MntMeatProducts']].head())\n",
    "display(Data_Raw[['MntFishProducts', 'MntSweetProducts','MntGoldProds', 'NumDealsPurchases', 'NumWebPurchases','NumCatalogPurchases', 'NumStorePurchases','NumWebVisitsMonth']].head())\n",
    "display(Data_Raw[['AcceptedCmp1','AcceptedCmp2','AcceptedCmp3', 'AcceptedCmp4', 'AcceptedCmp5', 'Complain', 'Z_CostContact', 'Z_Revenue', 'Response','TotalAccCmp']].head())\n",
    "display(Data_Raw[['Age','AgeGroup','Total Anak','Punya Anak']].head())"
   ]
  },
  {
   "cell_type": "markdown",
   "metadata": {},
   "source": [
    "-------"
   ]
  },
  {
   "cell_type": "markdown",
   "metadata": {},
   "source": [
    "### Proporsi orang yang menerima dan menolak promosi\n",
    "\n",
    "\n"
   ]
  },
  {
   "cell_type": "code",
   "execution_count": 20,
   "metadata": {},
   "outputs": [
    {
     "data": {
      "image/png": "[encoded data removed]",
      "text/plain": [
       "<Figure size 640x480 with 1 Axes>"
      ]
     },
     "metadata": {},
     "output_type": "display_data"
    }
   ],
   "source": [
    "tolak = Data_Raw['TotalAccCmp'].value_counts()[0]\n",
    "menerima = Data_Raw['TotalAccCmp'].value_counts()[1:].sum()\n",
    "plt.pie([tolak,menerima],labels=['tolak','menerima'],autopct='%1.1f%%')\n",
    "plt.show()"
   ]
  },
  {
   "cell_type": "markdown",
   "metadata": {},
   "source": [
    "Bisa dilihat 72.8% pelanggan menolak promosi dan 27.2% menerima promosi\n",
    "\n",
    "Kesimpulan: Untuk analisa selanjutnya akan berfokus kepada yang menolak untuk mengetahui pengebab mereka menolak"
   ]
  },
  {
   "cell_type": "markdown",
   "metadata": {},
   "source": [
    "------"
   ]
  },
  {
   "cell_type": "markdown",
   "metadata": {},
   "source": [
    "### Persebaran Umur beserta persentase per kelompok umur yang menolak"
   ]
  },
  {
   "cell_type": "code",
   "execution_count": 21,
   "metadata": {},
   "outputs": [
    {
     "data": {
      "image/png": "[encoded data removed]",
      "text/plain": [
       "<Figure size 640x480 with 1 Axes>"
      ]
     },
     "metadata": {},
     "output_type": "display_data"
    }
   ],
   "source": [
    "x = Data_Raw[Data_Raw['TotalAccCmp']==0]['AgeGroup'].value_counts().sort_index()\n",
    "x1 = Data_Raw['AgeGroup'].value_counts().sort_index()\n",
    "bar_positions_group1 = np.arange(len(x.index))\n",
    "for i,value in enumerate(x.values):\n",
    "    plt.text(bar_positions_group1[i],value-25,f'{(100*value/x1.values[i]):.0f}%',ha='center')\n",
    "for i,value in enumerate(x1.values):\n",
    "    plt.text(bar_positions_group1[i],value-25,f'{(100*(value-x.values[i])/x1.values[i]):.0f}%',ha='center')\n",
    "plt.bar(x1.index,x1.values,label='Total')\n",
    "plt.bar(x.index,x.values,label='Menolak')\n",
    "plt.xlabel(\"Grup Umur\")\n",
    "plt.ylabel(\"Jumlah Orang\")\n",
    "plt.legend()\n",
    "plt.show()\n"
   ]
  },
  {
   "cell_type": "markdown",
   "metadata": {},
   "source": [
    "Di sini dapat dilihat secara kelompok umur 45-54 tahun memiliki total orang yang paling banyak dan juga memiliki persentase penolakan yang paling tinggi dibandingkan kelompok lain\n",
    "\n",
    "Kesimpulan: Jadi untuk analisa lebih lanjut maka kelompok 45-54 tahun yang akan jadi fokus analisis"
   ]
  },
  {
   "cell_type": "markdown",
   "metadata": {},
   "source": [
    "----"
   ]
  },
  {
   "cell_type": "markdown",
   "metadata": {},
   "source": [
    "### Perbedaan rata-rata income antar pelanggan yang menerima dan yang menolak promosi"
   ]
  },
  {
   "cell_type": "markdown",
   "metadata": {},
   "source": [
    "Sebelum melakukan analisis dilakukan pengecekan apakah data income tersebar secara normal atau tidak"
   ]
  },
  {
   "cell_type": "code",
   "execution_count": 22,
   "metadata": {},
   "outputs": [
    {
     "name": "stdout",
     "output_type": "stream",
     "text": [
      "Sample does not look Gaussian (reject H0)\n",
      "0.0\n"
     ]
    }
   ],
   "source": [
    "checkNormal(Data_Raw['Income'])"
   ]
  },
  {
   "cell_type": "markdown",
   "metadata": {},
   "source": [
    "Ditemukan bahwa Data income tidak tersebar dengan normal dengan p sebesar 0 maka untuk pemusatan data menggunakan median"
   ]
  },
  {
   "cell_type": "code",
   "execution_count": 23,
   "metadata": {},
   "outputs": [
    {
     "data": {
      "image/png": "[encoded data removed]",
      "text/plain": [
       "<Figure size 1000x1500 with 3 Axes>"
      ]
     },
     "metadata": {},
     "output_type": "display_data"
    }
   ],
   "source": [
    "Tolak_45 = Data_Raw[(Data_Raw['AgeGroup']=='45-54') & (Data_Raw['TotalAccCmp']==0)]\n",
    "Tolak_45_1 = Data_Raw[(Data_Raw['AgeGroup']=='45-54') & (Data_Raw['TotalAccCmp']==0) & (Data_Raw['Income']<200000)]\n",
    "Tolak_45_2 = Data_Raw[(Data_Raw['AgeGroup']=='45-54') & (Data_Raw['TotalAccCmp']==0) & (Data_Raw['Income']<140000)]\n",
    "\n",
    "fig, axs = plt.subplots(3, 1, figsize=(10, 15))\n",
    "\n",
    "# Plot the first chart\n",
    "axs[0].hist(Tolak_45[\"Income\"], bins=50, edgecolor='black')\n",
    "axs[0].set_title('Income Kelompok umur 45-54 yang menolak promosi')\n",
    "axs[0].axvline(x=Tolak_45[\"Income\"].median(), color='r', linestyle='--')\n",
    "axs[0].text(Tolak_45[\"Income\"].median(), axs[0].get_ylim()[1]-10, f' {Tolak_45[\"Income\"].median():.0f} USD', color='r', va='bottom', ha='left')\n",
    "axs[0].set_xlabel('Pendapatan per tahun')\n",
    "axs[0].set_ylabel('Jumlah Orang')\n",
    "\n",
    "\n",
    "# Plot the second chart\n",
    "axs[1].hist(Tolak_45_1[\"Income\"], bins=50, edgecolor='black')\n",
    "axs[1].set_title('Income Kelompok umur 45-54 yang menolak promosi (Tanpa outlier yang diatas 600.000)')\n",
    "axs[1].axvline(x=Tolak_45_1[\"Income\"].median(), color='r', linestyle='--')\n",
    "axs[1].text(Tolak_45_1[\"Income\"].median(), axs[1].get_ylim()[1]-5, f' {Tolak_45_1[\"Income\"].median():.0f} USD', color='r', va='bottom', ha='left')\n",
    "axs[1].set_xlabel('Pendapatan per tahun')\n",
    "axs[1].set_ylabel('Jumlah Orang')\n",
    "\n",
    "\n",
    "# Plot the third chart\n",
    "axs[2].hist(Tolak_45_2[\"Income\"], bins=50, edgecolor='black')\n",
    "axs[2].set_title('Income Kelompok umur 45-54 yang menolak promosi (Tanpa outlier yang diatas 150.000)')\n",
    "axs[2].axvline(x=Tolak_45_2[\"Income\"].median(), color='r', linestyle='--')\n",
    "axs[2].text(Tolak_45_2[\"Income\"].median(), axs[2].get_ylim()[1]-3, f' {Tolak_45_2[\"Income\"].median():.0f} USD', color='r', va='bottom', ha='left')\n",
    "axs[2].set_xlabel('Pendapatan per tahun')\n",
    "axs[2].set_ylabel('Jumlah Orang')\n",
    "\n",
    "\n",
    "\n",
    "# Show the plot\n",
    "plt.show()"
   ]
  },
  {
   "cell_type": "code",
   "execution_count": 24,
   "metadata": {},
   "outputs": [
    {
     "data": {
      "image/png": "[encoded data removed]",
      "text/plain": [
       "<Figure size 800x400 with 1 Axes>"
      ]
     },
     "metadata": {},
     "output_type": "display_data"
    }
   ],
   "source": [
    "plt.figure(figsize=(8,4))\n",
    "plt.hist(Tolak_45_2[\"Income\"], bins=50, edgecolor='black')  # Adjust the number of bins as needed\n",
    "plt.title('Income kelompok umur 45-54 tahun yang menolak promosi')\n",
    "plt.axvline(x=Tolak_45_2[\"Income\"].median(), color='r', linestyle='--')\n",
    "plt.text(Tolak_45_2[\"Income\"].median(), axs[2].get_ylim()[1]-3, f' {Tolak_45_2[\"Income\"].median():.0f} USD', color='r', va='bottom', ha='left')\n",
    "plt.xlabel('Pendapatan per tahun')\n",
    "plt.ylabel('Jumlah orang')\n",
    "\n",
    "# Show the plot\n",
    "plt.show()"
   ]
  },
  {
   "cell_type": "markdown",
   "metadata": {},
   "source": [
    "### Income kelompok umur 45-54 tahun yang menolak promosi\n",
    "\n",
    "Di pusat persebaran data, income tersebar di rentan diatas 0 usd sampai dibawah 90.000 usd tetapi ditemukan nya ada outlier yang dimana ada yang pendaptan nya diatas 140.000 usd dan yang paling jauh diatas 600.000 usd.\n",
    "\n",
    "oleh karena itu ditampilkan 3 chart yaitu yang pertama include semua pelanggan,yang kedua tanpa yang diatas 660.000 dan yang ketiga tanpa yang diatas 140.000 atau bisa dibilang hanya data yang ada di pusat persebaran data.\n",
    "\n",
    "untuk yang di pusat persebaran data, median pendapatan pelanggan per tahun sebesar 44511 usd \n",
    "\n",
    "untuk analisis selanjutnya hanya fokus pada yang berlokasi di pusat persebaran data saja"
   ]
  },
  {
   "cell_type": "code",
   "execution_count": 25,
   "metadata": {},
   "outputs": [
    {
     "data": {
      "image/png": "[encoded data removed]",
      "text/plain": [
       "<Figure size 800x400 with 1 Axes>"
      ]
     },
     "metadata": {},
     "output_type": "display_data"
    }
   ],
   "source": [
    "plt.figure(figsize=(8,4))\n",
    "Terima_45 = Data_Raw[(Data_Raw['AgeGroup']=='45-54') & (Data_Raw['TotalAccCmp']>0)]\n",
    "Terima_45['Income']\n",
    "plt.hist(Terima_45[\"Income\"], bins=50, edgecolor='black')  # Adjust the number of bins as needed\n",
    "plt.title('Income kelompok umur 45-54 tahun yang menerima promosi')\n",
    "plt.axvline(x=Terima_45[\"Income\"].median(), color='r', linestyle='--')\n",
    "plt.text(Terima_45['Income'].median(),10,f' {Terima_45[\"Income\"].median():.0f} USD', color='r', va='bottom', ha='left')\n",
    "plt.xlabel('Pendapatan per tahun')\n",
    "plt.ylabel('Jumlah orang')\n",
    "\n",
    "# Show the plot\n",
    "plt.show()"
   ]
  },
  {
   "cell_type": "markdown",
   "metadata": {},
   "source": [
    "### Income kelompok umur 45-54 tahun yang menerima promosi\n",
    "\n",
    "Di data kelompok ini median pendapatan pertahun sebesar 57091 usd  \n",
    "Jika dibandingkan dengan kelompok umur 45-54 tahun yang menolak promosi maka kelompok yang menerima promosi ini memiliki median pendapatan pertahun lebih tinggi sekitar 12rb usd \n",
    "\n",
    "Kesimpulan: yang menolak promosi punya pendapatan lebih rendah dengan yang menerima promosi"
   ]
  },
  {
   "cell_type": "code",
   "execution_count": 26,
   "metadata": {},
   "outputs": [
    {
     "name": "stdout",
     "output_type": "stream",
     "text": [
      "Mann-Whitney U Statistic: 64205.0\n",
      "P-Value: 4.42873498418312e-09\n",
      "Reject the null hypothesis. Dari kelompok Umur 45-54 tahun,Median income yang menerima promosi lebih besar dari yang menolak promosi.\n"
     ]
    }
   ],
   "source": [
    "statistic, p_value = mannwhitneyu(Terima_45['Income'], Tolak_45_2['Income'], alternative='greater')\n",
    "\n",
    "# Display the results\n",
    "print(f\"Mann-Whitney U Statistic: {statistic}\")\n",
    "print(f\"P-Value: {p_value}\")\n",
    "\n",
    "# Check for significance\n",
    "alpha = 0.05\n",
    "if p_value < alpha:\n",
    "    print(\"Reject the null hypothesis. Dari kelompok Umur 45-54 tahun,Median income yang menerima promosi lebih besar dari yang menolak promosi.\")\n",
    "else:\n",
    "    print(\"Fail to reject the null hypothesis. Dari kelompok Umur 45-54 tahun,Median income yang menerima promosi lebih Kecil dari yang menolak promosi.\")"
   ]
  },
  {
   "cell_type": "markdown",
   "metadata": {},
   "source": [
    "-----"
   ]
  },
  {
   "cell_type": "markdown",
   "metadata": {},
   "source": [
    "### Mengetahui lebih banyak belanja di website atau di supermarket"
   ]
  },
  {
   "cell_type": "code",
   "execution_count": 27,
   "metadata": {},
   "outputs": [
    {
     "name": "stdout",
     "output_type": "stream",
     "text": [
      "Sample does not look Gaussian (reject H0)\n",
      "7.203940188531326e-21\n",
      "Sample does not look Gaussian (reject H0)\n",
      "9.065885377193762e-22\n"
     ]
    }
   ],
   "source": [
    "checkNormal(Tolak_45_2['NumWebPurchases'])\n",
    "checkNormal(Tolak_45_2['NumStorePurchases'])"
   ]
  },
  {
   "cell_type": "markdown",
   "metadata": {},
   "source": [
    "Setelah di uji normalitas ditemukan bahwa data 'NumWebPurchases' dan 'NumStorePurchases' tidak berdistribusi noraml, maka dalam analisa lebih lanjut akan menggunakan pendekatan non-parametric untuk mengetahui di mana lebih banyak berbelanja"
   ]
  },
  {
   "cell_type": "code",
   "execution_count": 28,
   "metadata": {},
   "outputs": [
    {
     "data": {
      "image/png": "[encoded data removed]",
      "text/plain": [
       "<Figure size 640x480 with 1 Axes>"
      ]
     },
     "metadata": {},
     "output_type": "display_data"
    }
   ],
   "source": [
    "fig, ax = plt.subplots()\n",
    "\n",
    "# Create two box plots side by side\n",
    "ax.boxplot([Tolak_45_2['NumWebPurchases'], Tolak_45_2['NumStorePurchases']], labels=['Belanja di web', 'Belanja di store'])\n",
    "\n",
    "# Add labels and title\n",
    "ax.set_ylabel('Jumlah')\n",
    "ax.set_title('Perbandingan jumlah belanja di website dan di supermarket')\n",
    "for i, median in enumerate([np.median(Tolak_45_2['NumWebPurchases']), np.median(Tolak_45_2['NumStorePurchases'])]):\n",
    "    ax.text(i + 1, median, f'Median: {median:.2f}', horizontalalignment='center', verticalalignment='bottom', color='red')\n",
    "\n",
    "# Show the plot\n",
    "plt.show()"
   ]
  },
  {
   "cell_type": "code",
   "execution_count": 29,
   "metadata": {},
   "outputs": [
    {
     "data": {
      "image/png": "[encoded data removed]",
      "text/plain": [
       "<Figure size 640x480 with 1 Axes>"
      ]
     },
     "metadata": {},
     "output_type": "display_data"
    }
   ],
   "source": [
    "plt.hist(Tolak_45_2['NumStorePurchases'], bins=15, edgecolor='black', alpha=0.7, label='NumStorePurchases')\n",
    "plt.hist(Tolak_45_2['NumWebPurchases'], bins=30, edgecolor='black', alpha=0.7, label='NumWebPurchases')\n",
    "# Adding legend\n",
    "plt.legend(['NumWebPurchases', 'NumStorePurchases'])\n",
    "\n",
    "# Calculate medians\n",
    "median_web = Tolak_45_2['NumWebPurchases'].median()\n",
    "median_store = Tolak_45_2['NumStorePurchases'].median()\n",
    "\n",
    "# Adding median lines\n",
    "plt.axvline(median_store, color='green', linestyle='dashed', linewidth=2, label=f'Median Store: {median_store}')\n",
    "plt.axvline(median_web, color='red', linestyle='dashed', linewidth=2, label=f'Median Web: {median_web}')\n",
    "\n",
    "# Show the plot\n",
    "plt.legend()\n",
    "plt.show()"
   ]
  },
  {
   "cell_type": "markdown",
   "metadata": {},
   "source": [
    "Dari chart bisa dilihat secara median, yang berbelanja di store memiliki median lebih tinggi dari yang berbelanja di web sehingga bisa diasumsikan bahwa yang berbelanja di store lebih banya dari pada yang di web. untuk pembuktian lebih lanjut akan dilakukan uji statistik menggunakan mann whitney"
   ]
  },
  {
   "cell_type": "code",
   "execution_count": 30,
   "metadata": {},
   "outputs": [
    {
     "name": "stdout",
     "output_type": "stream",
     "text": [
      "Mann-Whitney U Statistic: 97982.5\n",
      "P-Value: 1.0419734270313828e-21\n",
      "Reject the null hypothesis. Dari kelompok Umur 45-54 tahun yang menolak promosi Lebih banyak berbelanja di toko.\n"
     ]
    }
   ],
   "source": [
    "statistic, p_value = mannwhitneyu(Tolak_45_2['NumWebPurchases'],Tolak_45_2['NumStorePurchases'], alternative='less')\n",
    "\n",
    "# Display the results\n",
    "print(f\"Mann-Whitney U Statistic: {statistic}\")\n",
    "print(f\"P-Value: {p_value}\")\n",
    "\n",
    "# Check for significance\n",
    "alpha = 0.05\n",
    "if p_value < alpha:\n",
    "    print(\"Reject the null hypothesis. Dari kelompok Umur 45-54 tahun yang menolak promosi Lebih banyak berbelanja di toko.\")\n",
    "else:\n",
    "    print(\"Fail to reject the null hypothesis. Dari kelompok Umur 45-54 tahun yang menolak promosi Lebih banyak berbelanja di web.\")"
   ]
  },
  {
   "cell_type": "markdown",
   "metadata": {},
   "source": [
    "Setelah uji statistik terbukti bahwa memang belanja di toko lebih banya di bandingkan di web sehingga bisa fokus saja pada promosi di toko"
   ]
  },
  {
   "cell_type": "markdown",
   "metadata": {},
   "source": [
    "-----"
   ]
  },
  {
   "cell_type": "markdown",
   "metadata": {},
   "source": [
    "### Mengathui jumlah barang yang di beli di toko"
   ]
  },
  {
   "cell_type": "code",
   "execution_count": 31,
   "metadata": {},
   "outputs": [
    {
     "name": "stdout",
     "output_type": "stream",
     "text": [
      "['red', 'red', 'red', 'red', 'blue', 'blue']\n"
     ]
    },
    {
     "data": {
      "image/png": "[encoded data removed]",
      "text/plain": [
       "<Figure size 640x480 with 1 Axes>"
      ]
     },
     "metadata": {},
     "output_type": "display_data"
    }
   ],
   "source": [
    "barang = Tolak_45_2[Tolak_45_2['NumStorePurchases']>0][Products].sum()\n",
    "barang = barang.sort_values()\n",
    "\n",
    "bar_pos_1 = np.arange(len(barang.index))\n",
    "colors = ['red' if value < 50000 else 'blue' for value in barang.values]\n",
    "print(colors)\n",
    "plt.barh(bar_pos_1,barang.values,label = 'Tidak Punya Anak',color=colors)\n",
    "for i,value in enumerate(barang.values):\n",
    "    if i != 5:\n",
    "        plt.text(value-11000,bar_pos_1[i],f'{value:.0f}')\n",
    "plt.text(barang.iloc[5]-13500,5,barang.iloc[5])\n",
    "plt.yticks(bar_pos_1,barang.index)\n",
    "plt.show()\n"
   ]
  },
  {
   "cell_type": "markdown",
   "metadata": {},
   "source": [
    "Dari 6 products, 2 product yang paling banyak di beli di toko adalah wine dan daging, Sehingga fokus product yang harus dipromosikan bisa berfokus ke GoldProds, FishProducts, SweetProducts dan Fruit.\n",
    "\n",
    "Maka product yang bisa dijadikan fokus adalah emas, ikan ,manis-manisan dan buah"
   ]
  },
  {
   "cell_type": "markdown",
   "metadata": {},
   "source": [
    "------"
   ]
  },
  {
   "cell_type": "markdown",
   "metadata": {},
   "source": [
    "### Kesimpulan Akhir\n",
    "\n",
    "- Ditemukan dari seluruh promosi yang di lakukan terhadap pelanggan, 72.8% menolak promosi\n",
    "- Dari semua pelanggan, dari sisi umur kelompok umur 45-54 tahun yang mayoritas dan di kelompok tersebut terdapat 75% yang menolak promosi\n",
    "- Dari kelompok 45-54 tahun, mereka yang menolak promosi memiliki median income pertahun lebih kecil 12 rb dibandingkan yang menerima promosi\n",
    "- Secara perbandingan banyak jumlah berbelanja, lebih banyak pelanggan berbelanja di toko\n",
    "- Dari seluruh barang yang dibeli, wine dan daging adalah 2 barang yang paling banya dibeli"
   ]
  },
  {
   "cell_type": "markdown",
   "metadata": {},
   "source": [
    "Suggestion\n",
    "\n",
    "- Fokus kan promosi ke pada pelanggan yang berumur 45-54 tahun \n",
    "- Promosi fokus dilakukan di toko fisik\n",
    "- harga barang yang di promosi lebih murah dibandingkan barang dipromosikan sebelumnya\n",
    "- Ada 3 cara yang bisa di approach:\n",
    "    - promosi dengan tema kesehatan dengan produk ikan dan buah yang punya harga murah\n",
    "    - promosi tentang investasi jangka panjang dengan produk emas\n",
    "    - promosi dengan tema lebih dekat dengan anak dengan produk manis-manisan"
   ]
  },
  {
   "cell_type": "code",
   "execution_count": 34,
   "metadata": {},
   "outputs": [],
   "source": [
    "Data_Raw.to_excel('Target.xlsx',index=False)"
   ]
  }
 ],
 "metadata": {
  "kernelspec": {
   "display_name": "Python 3",
   "language": "python",
   "name": "python3"
  },
  "language_info": {
   "codemirror_mode": {
    "name": "ipython",
    "version": 3
   },
   "file_extension": ".py",
   "mimetype": "text/x-python",
   "name": "python",
   "nbconvert_exporter": "python",
   "pygments_lexer": "ipython3",
   "version": "3.12.0"
  }
 },
 "nbformat": 4,
 "nbformat_minor": 2
}
